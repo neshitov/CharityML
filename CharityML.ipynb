{
 "cells": [
  {
   "cell_type": "markdown",
   "metadata": {},
   "source": [
    "## Udacity CharityML project"
   ]
  },
  {
   "cell_type": "markdown",
   "metadata": {},
   "source": [
    "This notebook contains solution of Udacity CharityML project using Yandex CatBoost classifier,\n",
    "a tool for gradient boosting on decision trees, which is well suited for categorical features"
   ]
  },
  {
   "cell_type": "code",
   "execution_count": 1,
   "metadata": {},
   "outputs": [],
   "source": [
    "import numpy as np\n",
    "import pandas as pd\n",
    "import matplotlib.pyplot as plt\n",
    "from catboost import CatBoostClassifier, FeaturesData, Pool\n",
    "from sklearn.model_selection import train_test_split\n",
    "from sklearn.preprocessing import MinMaxScaler\n",
    "from sklearn.metrics import f1_score, roc_auc_score, accuracy_score\n"
   ]
  },
  {
   "cell_type": "markdown",
   "metadata": {},
   "source": [
    "The data contains 45221 records with census and income data (more or less than 50K)"
   ]
  },
  {
   "cell_type": "code",
   "execution_count": 2,
   "metadata": {},
   "outputs": [
    {
     "name": "stdout",
     "output_type": "stream",
     "text": [
      "   age          workclass education_level  education-num       marital-status  \\\n",
      "1   50   Self-emp-not-inc       Bachelors           13.0   Married-civ-spouse   \n",
      "2   38            Private         HS-grad            9.0             Divorced   \n",
      "3   53            Private            11th            7.0   Married-civ-spouse   \n",
      "4   28            Private       Bachelors           13.0   Married-civ-spouse   \n",
      "\n",
      "           occupation    relationship    race      sex  capital-gain  \\\n",
      "1     Exec-managerial         Husband   White     Male           0.0   \n",
      "2   Handlers-cleaners   Not-in-family   White     Male           0.0   \n",
      "3   Handlers-cleaners         Husband   Black     Male           0.0   \n",
      "4      Prof-specialty            Wife   Black   Female           0.0   \n",
      "\n",
      "   capital-loss  hours-per-week  native-country income  \n",
      "1           0.0            13.0   United-States  <=50K  \n",
      "2           0.0            40.0   United-States  <=50K  \n",
      "3           0.0            40.0   United-States  <=50K  \n",
      "4           0.0            40.0            Cuba  <=50K  \n"
     ]
    }
   ],
   "source": [
    "data=pd.read_csv('census.csv')\n",
    "print(data.iloc[1:5,:])"
   ]
  },
  {
   "cell_type": "markdown",
   "metadata": {},
   "source": [
    "We will construct a model that predicts the income based on the census data.\n",
    "Start with data preprocessing. Replace the income column with 0 (less than 50K) and 1 (more than 50K)\n",
    "Split train and test sets. Scale numerical features. Note that we do not need to do one-hot encoding for categorical features to use CatBoost."
   ]
  },
  {
   "cell_type": "code",
   "execution_count": 3,
   "metadata": {},
   "outputs": [],
   "source": [
    "data['income']=data['income'].apply(lambda x: (x=='>50K'))\n",
    "features=data.drop(columns=['income'])\n",
    "outcomes=data['income']\n",
    "features_train,features_test, outcomes_train, outcomes_test=train_test_split(features,outcomes,test_size=0.2,random_state=23)\n",
    "scaler = MinMaxScaler()\n",
    "numerical = ['age', 'education-num', 'capital-gain', 'capital-loss', 'hours-per-week']\n",
    "scaler.fit(features[numerical])\n",
    "features[numerical]=scaler.transform(data[numerical])\n"
   ]
  },
  {
   "cell_type": "markdown",
   "metadata": {},
   "source": [
    "Initialize CatBoost classifier. Parameters:\n",
    "- depth: maximal depth of decision trees\n",
    "- iterations: number of decision trees\n",
    "- cat_features: column indices that correspond to categorical features\n",
    "- od_type: type of overfitting detector, here we set it to 'Iter' to evaluate loss on test set after every iteration\n",
    "- od_wait: number of iterations to continue after the iteration with optimal loss value on the test set"
   ]
  },
  {
   "cell_type": "code",
   "execution_count": 4,
   "metadata": {},
   "outputs": [],
   "source": [
    "cbclf=CatBoostClassifier(depth=9,iterations=3000,cat_features=[1,2,4,5,6,7,8,12],od_type='Iter',od_wait=300)"
   ]
  },
  {
   "cell_type": "markdown",
   "metadata": {},
   "source": [
    "Create the Pool out of test data and train the classifier"
   ]
  },
  {
   "cell_type": "code",
   "execution_count": 5,
   "metadata": {},
   "outputs": [
    {
     "name": "stdout",
     "output_type": "stream",
     "text": [
      "Learning rate set to 0.071069\n"
     ]
    },
    {
     "data": {
      "text/plain": [
       "<catboost.core.CatBoostClassifier at 0x7f55cf098048>"
      ]
     },
     "execution_count": 5,
     "metadata": {},
     "output_type": "execute_result"
    }
   ],
   "source": [
    "testPool=Pool(data=features_test.values,label=outcomes_test.values,cat_features=[1,2,4,5,6,7,8,12])\n",
    "cbclf.fit(features_train,outcomes_train,eval_set=testPool,verbose=False)"
   ]
  },
  {
   "cell_type": "markdown",
   "metadata": {},
   "source": [
    "Model evaluation:\n",
    "- ROC auc score\n",
    "- F1 score\n",
    "- accuracy"
   ]
  },
  {
   "cell_type": "code",
   "execution_count": 6,
   "metadata": {},
   "outputs": [
    {
     "name": "stdout",
     "output_type": "stream",
     "text": [
      "Model ROC auc score on train set: 0.937512782074\n",
      "Model ROC auc score on test: 0.931060779985\n",
      "Model F1 score on train set: 0.733495145631\n",
      "Model F1 score on test set: 0.716055380131\n",
      "Model accuracy on train set: 0.878596898582\n",
      "Model accuracy on test set: 0.870757324489\n"
     ]
    }
   ],
   "source": [
    "y_train_pred=cbclf.predict_proba(features_train)[:, 1]\n",
    "y_test_pred=cbclf.predict_proba(features_test)[:, 1]\n",
    "print('Model ROC auc score on train set:',roc_auc_score(outcomes_train,y_train_pred))\n",
    "print('Model ROC auc score on test:',roc_auc_score(outcomes_test,y_test_pred))\n",
    "y_train_pred=y_train_pred>0.5\n",
    "y_test_pred=y_test_pred>0.5\n",
    "print('Model F1 score on train set:',f1_score(outcomes_train,y_train_pred))\n",
    "print('Model F1 score on test set:',f1_score(outcomes_test,y_test_pred))\n",
    "print('Model accuracy on train set:',accuracy_score(outcomes_train,y_train_pred))\n",
    "print('Model accuracy on test set:',accuracy_score(outcomes_test,y_test_pred))\n",
    "\n"
   ]
  },
  {
   "cell_type": "markdown",
   "metadata": {},
   "source": [
    "Five most important features:"
   ]
  },
  {
   "cell_type": "code",
   "execution_count": 7,
   "metadata": {},
   "outputs": [
    {
     "data": {
      "image/png": "[encoded data removed]",
      "text/plain": [
       "<Figure size 432x288 with 1 Axes>"
      ]
     },
     "metadata": {},
     "output_type": "display_data"
    }
   ],
   "source": [
    "importances = cbclf.feature_importances_\n",
    "indices = np.argsort(importances)[::-1]\n",
    "columns = features_train.columns.values[indices[:5]]\n",
    "values = importances[indices][:5]\n",
    "\n",
    "plt.bar(np.arange(5),values,tick_label=columns)\n",
    "plt.show()\n"
   ]
  },
  {
   "cell_type": "code",
   "execution_count": null,
   "metadata": {},
   "outputs": [],
   "source": []
  }
 ],
 "metadata": {
  "kernelspec": {
   "display_name": "Python 3",
   "language": "python",
   "name": "python3"
  },
  "language_info": {
   "codemirror_mode": {
    "name": "ipython",
    "version": 3
   },
   "file_extension": ".py",
   "mimetype": "text/x-python",
   "name": "python",
   "nbconvert_exporter": "python",
   "pygments_lexer": "ipython3",
   "version": "3.6.5"
  }
 },
 "nbformat": 4,
 "nbformat_minor": 2
}
